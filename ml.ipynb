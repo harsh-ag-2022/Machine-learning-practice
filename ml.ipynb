{
 "cells": [
  {
   "cell_type": "markdown",
   "metadata": {},
   "source": [
    "1. Create an array of 6 zeros "
   ]
  },
  {
   "cell_type": "code",
   "execution_count": 54,
   "metadata": {},
   "outputs": [
    {
     "name": "stdout",
     "output_type": "stream",
     "text": [
      "[0 0 0 0 0 0]\n"
     ]
    }
   ],
   "source": [
    "import numpy as np\n",
    "data=np.zeros((6),dtype=np.int16)\n",
    "print(data)"
   ]
  },
  {
   "cell_type": "markdown",
   "metadata": {},
   "source": [
    "2. Create an array of 6 ones"
   ]
  },
  {
   "cell_type": "code",
   "execution_count": 55,
   "metadata": {},
   "outputs": [
    {
     "name": "stdout",
     "output_type": "stream",
     "text": [
      "[1 1 1 1 1 1]\n"
     ]
    }
   ],
   "source": [
    "data=np.ones((6),dtype=np.int16)\n",
    "print(data)"
   ]
  },
  {
   "cell_type": "markdown",
   "metadata": {},
   "source": [
    "3.Create an array of 6 fives "
   ]
  },
  {
   "cell_type": "code",
   "execution_count": 56,
   "metadata": {},
   "outputs": [
    {
     "data": {
      "text/plain": [
       "array([5, 5, 5, 5, 5, 5])"
      ]
     },
     "execution_count": 56,
     "metadata": {},
     "output_type": "execute_result"
    }
   ],
   "source": [
    "np.full((6),5)"
   ]
  },
  {
   "cell_type": "markdown",
   "metadata": {},
   "source": [
    "4. Create an array of integers from 1 to 99 "
   ]
  },
  {
   "cell_type": "code",
   "execution_count": 57,
   "metadata": {},
   "outputs": [
    {
     "data": {
      "text/plain": [
       "array([ 1,  2,  3,  4,  5,  6,  7,  8,  9, 10, 11, 12, 13, 14, 15, 16, 17,\n",
       "       18, 19, 20, 21, 22, 23, 24, 25, 26, 27, 28, 29, 30, 31, 32, 33, 34,\n",
       "       35, 36, 37, 38, 39, 40, 41, 42, 43, 44, 45, 46, 47, 48, 49, 50, 51,\n",
       "       52, 53, 54, 55, 56, 57, 58, 59, 60, 61, 62, 63, 64, 65, 66, 67, 68,\n",
       "       69, 70, 71, 72, 73, 74, 75, 76, 77, 78, 79, 80, 81, 82, 83, 84, 85,\n",
       "       86, 87, 88, 89, 90, 91, 92, 93, 94, 95, 96, 97, 98, 99])"
      ]
     },
     "execution_count": 57,
     "metadata": {},
     "output_type": "execute_result"
    }
   ],
   "source": [
    "np.arange(1,100,1)"
   ]
  },
  {
   "cell_type": "markdown",
   "metadata": {},
   "source": [
    "5. Create an array of all the odd integers ranging from 1 to 99 "
   ]
  },
  {
   "cell_type": "code",
   "execution_count": 58,
   "metadata": {},
   "outputs": [
    {
     "data": {
      "text/plain": [
       "array([ 1,  3,  5,  7,  9, 11, 13, 15, 17, 19, 21, 23, 25, 27, 29, 31, 33,\n",
       "       35, 37, 39, 41, 43, 45, 47, 49, 51, 53, 55, 57, 59, 61, 63, 65, 67,\n",
       "       69, 71, 73, 75, 77, 79, 81, 83, 85, 87, 89, 91, 93, 95, 97, 99])"
      ]
     },
     "execution_count": 58,
     "metadata": {},
     "output_type": "execute_result"
    }
   ],
   "source": [
    "np.arange(1,100,2)"
   ]
  },
  {
   "cell_type": "markdown",
   "metadata": {},
   "source": [
    "6. Create a 2X2 matrix filled with values from 1 to 4 "
   ]
  },
  {
   "cell_type": "code",
   "execution_count": 59,
   "metadata": {},
   "outputs": [
    {
     "data": {
      "text/plain": [
       "array([[1, 2],\n",
       "       [3, 4]])"
      ]
     },
     "execution_count": 59,
     "metadata": {},
     "output_type": "execute_result"
    }
   ],
   "source": [
    "np.array([(1,2),(3,4)])"
   ]
  },
  {
   "cell_type": "markdown",
   "metadata": {},
   "source": [
    "7. Create a 3X3 matrix filled with values from 9 to 17 "
   ]
  },
  {
   "cell_type": "code",
   "execution_count": 60,
   "metadata": {},
   "outputs": [],
   "source": [
    "matrix_3x3 = np.arange(9, 18).reshape(3, 3)"
   ]
  },
  {
   "cell_type": "markdown",
   "metadata": {},
   "source": [
    "8. Make an indentity matrix of 4X4 "
   ]
  },
  {
   "cell_type": "code",
   "execution_count": 61,
   "metadata": {},
   "outputs": [
    {
     "data": {
      "text/plain": [
       "array([[1., 0., 0., 0.],\n",
       "       [0., 1., 0., 0.],\n",
       "       [0., 0., 1., 0.],\n",
       "       [0., 0., 0., 1.]])"
      ]
     },
     "execution_count": 61,
     "metadata": {},
     "output_type": "execute_result"
    }
   ],
   "source": [
    "np.eye(4)"
   ]
  },
  {
   "cell_type": "markdown",
   "metadata": {},
   "source": [
    "9. With the help of NumPy generate a random nos in between 0 to 1 "
   ]
  },
  {
   "cell_type": "code",
   "execution_count": 62,
   "metadata": {},
   "outputs": [
    {
     "name": "stdout",
     "output_type": "stream",
     "text": [
      "[[0.31798318]]\n"
     ]
    }
   ],
   "source": [
    "print(np.random.random((1,1)))"
   ]
  },
  {
   "cell_type": "markdown",
   "metadata": {},
   "source": [
    "10. Compare two 3d array and display the results in terms of true and false "
   ]
  },
  {
   "cell_type": "code",
   "execution_count": 63,
   "metadata": {},
   "outputs": [
    {
     "name": "stdout",
     "output_type": "stream",
     "text": [
      "False\n"
     ]
    }
   ],
   "source": [
    "a=np.array([[(1,2,3),(4,5,6)],[(7,8,9),(10,11,12)]])\n",
    "b=np.array([[(2,2,2),(4,4,4)],[(9,9,9),(11,11,12)]])\n",
    "print(np.array_equal(a,b))"
   ]
  },
  {
   "cell_type": "markdown",
   "metadata": {},
   "source": [
    "11. Create a null vector of size 20 where the 6th value should be 0 "
   ]
  },
  {
   "cell_type": "code",
   "execution_count": 64,
   "metadata": {},
   "outputs": [],
   "source": [
    "null_vector = np.zeros(20)\n",
    "null_vector[5] = 1"
   ]
  },
  {
   "cell_type": "markdown",
   "metadata": {},
   "source": [
    "12. Reverse an array of size 100 using numpy. "
   ]
  },
  {
   "cell_type": "code",
   "execution_count": 65,
   "metadata": {},
   "outputs": [],
   "source": [
    "reversed_array = np.arange(100)[::-1]"
   ]
  },
  {
   "cell_type": "markdown",
   "metadata": {},
   "source": [
    "13. Find the minimum and maximum values of a 20X20 array using numpy "
   ]
  },
  {
   "cell_type": "code",
   "execution_count": 66,
   "metadata": {},
   "outputs": [],
   "source": [
    "array_20x20 = np.random.randint(0, 100, (20, 20))\n",
    "min_value = array_20x20.min()\n",
    "max_value = array_20x20.max()"
   ]
  },
  {
   "cell_type": "markdown",
   "metadata": {},
   "source": [
    "14. Find mean value of a randomly generated array of size 50 "
   ]
  },
  {
   "cell_type": "code",
   "execution_count": 67,
   "metadata": {},
   "outputs": [],
   "source": [
    "random_array = np.random.rand(50)\n",
    "mean_value = random_array.mean()"
   ]
  },
  {
   "cell_type": "markdown",
   "metadata": {},
   "source": [
    "15. Create an array of size 10X10 with 10 element valued as nan "
   ]
  },
  {
   "cell_type": "code",
   "execution_count": 68,
   "metadata": {},
   "outputs": [],
   "source": [
    "array_with_nan = np.random.rand(10, 10)\n",
    "array_with_nan.flat[:10] = np.nan"
   ]
  },
  {
   "cell_type": "markdown",
   "metadata": {},
   "source": [
    "Pandas practice problems"
   ]
  },
  {
   "cell_type": "markdown",
   "metadata": {},
   "source": [
    "1. Create a pandas Series using lists and dictionaries? "
   ]
  },
  {
   "cell_type": "code",
   "execution_count": 69,
   "metadata": {},
   "outputs": [
    {
     "name": "stdout",
     "output_type": "stream",
     "text": [
      "0    10\n",
      "1    20\n",
      "2    30\n",
      "3    40\n",
      "dtype: int64\n",
      "a    10\n",
      "b    20\n",
      "c    30\n",
      "d    40\n",
      "dtype: int64\n"
     ]
    }
   ],
   "source": [
    "import pandas as pd\n",
    "series_from_list = pd.Series([10, 20, 30, 40])\n",
    "series_from_dict = pd.Series({'a': 10, 'b': 20, 'c': 30, 'd': 40})\n",
    "print(series_from_list)\n",
    "print(series_from_dict)\n"
   ]
  },
  {
   "cell_type": "markdown",
   "metadata": {},
   "source": [
    "2. Create series using NumPy functions in Pandas?  "
   ]
  },
  {
   "cell_type": "code",
   "execution_count": 70,
   "metadata": {},
   "outputs": [
    {
     "name": "stdout",
     "output_type": "stream",
     "text": [
      "0    0.00\n",
      "1    0.25\n",
      "2    0.50\n",
      "3    0.75\n",
      "4    1.00\n",
      "dtype: float64\n"
     ]
    }
   ],
   "source": [
    "series_from_numpy = pd.Series(np.linspace(0, 1, 5))\n",
    "print(series_from_numpy)"
   ]
  },
  {
   "cell_type": "markdown",
   "metadata": {},
   "source": [
    "3. Find index and values of series in Pandas?  "
   ]
  },
  {
   "cell_type": "code",
   "execution_count": 71,
   "metadata": {},
   "outputs": [
    {
     "name": "stdout",
     "output_type": "stream",
     "text": [
      "Index(['a', 'b', 'c', 'd'], dtype='object')\n",
      "[10 20 30 40]\n"
     ]
    }
   ],
   "source": [
    "sample_series = pd.Series([10, 20, 30, 40], index=['a', 'b', 'c', 'd'])\n",
    "series_index = sample_series.index\n",
    "series_values = sample_series.values\n",
    "print(series_index)\n",
    "print(series_values)"
   ]
  },
  {
   "cell_type": "markdown",
   "metadata": {},
   "source": [
    "4. How to specify an index while creating Series in Pandas? Find Length Size and Shape of a \n",
    "Series in Pandas?  "
   ]
  },
  {
   "cell_type": "code",
   "execution_count": 72,
   "metadata": {},
   "outputs": [
    {
     "name": "stdout",
     "output_type": "stream",
     "text": [
      "3\n",
      "3\n",
      "(3,)\n"
     ]
    }
   ],
   "source": [
    "indexed_series = pd.Series([100, 200, 300], index=['x', 'y', 'z'])\n",
    "series_length = len(indexed_series)\n",
    "series_size = indexed_series.size\n",
    "series_shape = indexed_series.shape\n",
    "print(series_length)\n",
    "print(series_size)\n",
    "print(series_shape)"
   ]
  },
  {
   "cell_type": "markdown",
   "metadata": {},
   "source": [
    "5. Find the first or last few rows from a Series in Pandas? "
   ]
  },
  {
   "cell_type": "code",
   "execution_count": 73,
   "metadata": {},
   "outputs": [
    {
     "name": "stdout",
     "output_type": "stream",
     "text": [
      "first three rows:\n",
      "0    1\n",
      "1    2\n",
      "2    3\n",
      "dtype: int64\n",
      "last three rows:\n",
      "7     8\n",
      "8     9\n",
      "9    10\n",
      "dtype: int64\n"
     ]
    }
   ],
   "source": [
    "series = pd.Series(range(1, 11))\n",
    "first_rows = series.head(3)  # First 3 rows\n",
    "last_rows = series.tail(3)   # Last 3 rows\n",
    "print(\"first three rows:\")\n",
    "print(first_rows)\n",
    "print(\"last three rows:\")\n",
    "print(last_rows)"
   ]
  },
  {
   "cell_type": "markdown",
   "metadata": {},
   "source": [
    "6. Checking the duplicate rows and columns using pandas. "
   ]
  },
  {
   "cell_type": "code",
   "execution_count": 74,
   "metadata": {},
   "outputs": [
    {
     "name": "stdout",
     "output_type": "stream",
     "text": [
      "0    False\n",
      "1    False\n",
      "2     True\n",
      "3    False\n",
      "dtype: bool\n",
      "A    False\n",
      "B    False\n",
      "C     True\n",
      "dtype: bool\n"
     ]
    }
   ],
   "source": [
    "data = pd.DataFrame({\n",
    "    'A': [1, 2, 2, 4],\n",
    "    'B': [5, 6, 6, 8],\n",
    "    'C': [1, 2, 2, 4]\n",
    "})\n",
    "\n",
    "duplicate_rows = data.duplicated()\n",
    "duplicate_columns = data.T.duplicated()\n",
    "print(duplicate_rows)\n",
    "print(duplicate_columns)"
   ]
  },
  {
   "cell_type": "markdown",
   "metadata": {},
   "source": [
    "7. Demonstrate possible missing value analysis approaches using any real world data  "
   ]
  },
  {
   "cell_type": "code",
   "execution_count": 75,
   "metadata": {},
   "outputs": [
    {
     "name": "stdout",
     "output_type": "stream",
     "text": [
      "Original data:\n",
      "      Name   Age   Salary\n",
      "0    Alice  25.0  50000.0\n",
      "1      Bob   NaN  55000.0\n",
      "2  Charlie  30.0      NaN\n",
      "3     None  28.0  52000.0\n",
      "Data after analysis:\n",
      "      Name        Age   Salary\n",
      "0    Alice  25.000000  50000.0\n",
      "1      Bob  27.666667  55000.0\n",
      "2  Charlie  30.000000      NaN\n",
      "3     None  28.000000  52000.0\n"
     ]
    }
   ],
   "source": [
    "data = pd.DataFrame({\n",
    "    'Name': ['Alice', 'Bob', 'Charlie', None],\n",
    "    'Age': [25, None, 30, 28],\n",
    "    'Salary': [50000, 55000, None, 52000]\n",
    "})\n",
    "print(\"Original data:\")\n",
    "print(data)\n",
    "missing_summary = data.isnull().sum()   # Check for missing values\n",
    "\n",
    "filled_data = data.fillna(0)    # Filling missing values with a default value\n",
    "\n",
    "dropped_data = data.dropna()    # Dropping rows with missing values\n",
    "\n",
    "data['Age'] = data['Age'].fillna(data['Age'].mean())    # Filling missing values with the mean\n",
    "print(\"Data after analysis:\")\n",
    "print(data)\n"
   ]
  },
  {
   "cell_type": "markdown",
   "metadata": {},
   "source": [
    "8. Suppose you have height and weight data for a group of people. For example: Heights are in \n",
    "feet, like 6.5, and weight is in grams, like 80000. In many machine learning situations, you \n",
    "want to normalize the data — scale the data so that the values in different columns have \n",
    "roughly the same magnitude so that large values (like the weight) don’t overwhelm smaller \n",
    "values (like the heights).  \n",
    "Create a raw data of minimum 40 records of height and weight in above mentioned format \n",
    "and use MinMax Normalization to normalize the weights in the range from (-10.0 to 10) as \n",
    "well as use Z-score to normalize the weights. "
   ]
  },
  {
   "cell_type": "code",
   "execution_count": 76,
   "metadata": {},
   "outputs": [],
   "source": [
    "np.random.seed(0)\n",
    "heights = np.random.uniform(5.0, 7.0, 40)  # Heights in feet\n",
    "weights = np.random.uniform(60000, 100000, 40)  # Weights in grams\n",
    "\n",
    "data = pd.DataFrame({'Height': heights, 'Weight': weights})"
   ]
  },
  {
   "cell_type": "code",
   "execution_count": 77,
   "metadata": {},
   "outputs": [],
   "source": [
    "min_val = -10.0\n",
    "max_val = 10.0\n",
    "data['Weight_MinMax'] = (data['Weight'] - data['Weight'].min()) / (data['Weight'].max() - data['Weight'].min()) * (max_val - min_val) + min_val\n"
   ]
  },
  {
   "cell_type": "code",
   "execution_count": 78,
   "metadata": {},
   "outputs": [
    {
     "name": "stdout",
     "output_type": "stream",
     "text": [
      "Normalized data:\n",
      "      Height        Weight  Weight_MinMax  Weight_ZScore\n",
      "0   6.097627  74380.316023      -3.250636      -0.151307\n",
      "1   6.430379  77481.278152      -1.617151       0.121353\n",
      "2   6.205527  87905.247837       3.873853       1.037909\n",
      "3   6.089766  62409.018865      -9.556722      -1.203916\n",
      "4   5.847310  86670.668618       3.223518       0.929355\n",
      "5   6.291788  86825.514785       3.305086       0.942971\n",
      "6   5.875174  68415.302443      -6.392809      -0.675797\n",
      "7   6.783546  65157.051906      -8.109148      -0.962288\n",
      "8   6.927326  72617.134037      -4.179422      -0.306340\n",
      "9   5.766883  74548.430838      -3.162079      -0.136525\n",
      "10  6.583450  82807.870817       1.188723       0.589708\n",
      "11  6.057790  77544.060538      -1.584079       0.126873\n",
      "12  6.136089  99534.953522      10.000000       2.060483\n",
      "13  6.851193  64081.792430      -8.675560      -1.056833\n",
      "14  5.142072  68355.070244      -6.424537      -0.681094\n",
      "15  5.174259  66452.380715      -7.426812      -0.848393\n",
      "16  5.040437  86124.333019       2.935726       0.881317\n",
      "17  6.665240  70131.664102      -5.488686      -0.524882\n",
      "18  6.556314  78652.430914      -1.000226       0.224330\n",
      "19  6.740024  69777.023680      -5.675499      -0.556064\n",
      "20  6.957237  66358.783346      -7.476116      -0.856623\n",
      "21  6.598317  64415.005647      -8.500034      -1.027534\n",
      "22  5.922959  86253.183579       3.003600       0.892647\n",
      "23  6.561058  65527.318054      -7.914104      -0.929731\n",
      "24  5.236549  67863.294467      -6.683589      -0.724334\n",
      "25  6.279842  74749.006826      -3.056422      -0.118889\n",
      "26  5.286707  92839.729194       6.473176       1.471787\n",
      "27  6.889338  63884.051032      -8.779723      -1.074220\n",
      "28  6.043697  93517.796300       6.830359       1.531408\n",
      "29  5.829324  63843.936316      -8.800854      -1.077747\n",
      "30  5.529111  99058.378601       9.748956       2.018579\n",
      "31  6.548467  78746.048066      -0.950912       0.232562\n",
      "32  5.912301  99070.443528       9.755311       2.019639\n",
      "33  6.136868  84193.820790       1.918796       0.711572\n",
      "34  5.037580  89570.543176       4.751076       1.184335\n",
      "35  6.235271  61567.511690     -10.000000      -1.277908\n",
      "36  6.224191  71312.278503      -4.866777      -0.421073\n",
      "37  6.233868  64807.862449      -8.293090      -0.992991\n",
      "38  6.887496  71845.607901      -4.585837      -0.374179\n",
      "39  6.363641  64749.108758      -8.324039      -0.998158\n"
     ]
    }
   ],
   "source": [
    "data['Weight_ZScore'] = (data['Weight'] - data['Weight'].mean()) / data['Weight'].std()\n",
    "print(\"Normalized data:\")\n",
    "print(data)"
   ]
  }
 ],
 "metadata": {
  "kernelspec": {
   "display_name": "Python 3",
   "language": "python",
   "name": "python3"
  },
  "language_info": {
   "codemirror_mode": {
    "name": "ipython",
    "version": 3
   },
   "file_extension": ".py",
   "mimetype": "text/x-python",
   "name": "python",
   "nbconvert_exporter": "python",
   "pygments_lexer": "ipython3",
   "version": "3.12.6"
  }
 },
 "nbformat": 4,
 "nbformat_minor": 2
}
